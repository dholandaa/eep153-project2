{
 "cells": [
  {
   "cell_type": "code",
   "execution_count": 11,
   "metadata": {},
   "outputs": [
    {
     "name": "stdout",
     "output_type": "stream",
     "text": [
      "Requirement already satisfied: Pint>=0.8.1 in c:\\users\\laial\\anaconda3\\lib\\site-packages (from -r requirements.txt (line 2)) (0.11)\n",
      "Requirement already satisfied: numpy>=1.15.0 in c:\\users\\laial\\anaconda3\\lib\\site-packages (from -r requirements.txt (line 6)) (1.16.5)\n",
      "Requirement already satisfied: pandas>=0.23.3 in c:\\users\\laial\\anaconda3\\lib\\site-packages (from -r requirements.txt (line 11)) (0.25.1)\n",
      "Requirement already satisfied: requests>=2.20.0 in c:\\users\\laial\\anaconda3\\lib\\site-packages (from -r requirements.txt (line 15)) (2.22.0)\n",
      "Requirement already satisfied: scipy>=1.1.0 in c:\\users\\laial\\anaconda3\\lib\\site-packages (from -r requirements.txt (line 18)) (1.3.1)\n",
      "Requirement already satisfied: gspread>=3.0.0 in c:\\users\\laial\\anaconda3\\lib\\site-packages (from -r requirements.txt (line 20)) (3.2.0)\n",
      "Requirement already satisfied: setuptools in c:\\users\\laial\\anaconda3\\lib\\site-packages (from Pint>=0.8.1->-r requirements.txt (line 2)) (41.4.0)\n",
      "Requirement already satisfied: pytz>=2017.2 in c:\\users\\laial\\anaconda3\\lib\\site-packages (from pandas>=0.23.3->-r requirements.txt (line 11)) (2019.3)\n",
      "Requirement already satisfied: python-dateutil>=2.6.1 in c:\\users\\laial\\anaconda3\\lib\\site-packages (from pandas>=0.23.3->-r requirements.txt (line 11)) (2.8.0)\n",
      "Requirement already satisfied: urllib3!=1.25.0,!=1.25.1,<1.26,>=1.21.1 in c:\\users\\laial\\anaconda3\\lib\\site-packages (from requests>=2.20.0->-r requirements.txt (line 15)) (1.24.2)\n",
      "Requirement already satisfied: certifi>=2017.4.17 in c:\\users\\laial\\anaconda3\\lib\\site-packages (from requests>=2.20.0->-r requirements.txt (line 15)) (2019.9.11)\n",
      "Requirement already satisfied: chardet<3.1.0,>=3.0.2 in c:\\users\\laial\\anaconda3\\lib\\site-packages (from requests>=2.20.0->-r requirements.txt (line 15)) (3.0.4)\n",
      "Requirement already satisfied: idna<2.9,>=2.5 in c:\\users\\laial\\anaconda3\\lib\\site-packages (from requests>=2.20.0->-r requirements.txt (line 15)) (2.8)\n",
      "Requirement already satisfied: six>=1.5 in c:\\users\\laial\\anaconda3\\lib\\site-packages (from python-dateutil>=2.6.1->pandas>=0.23.3->-r requirements.txt (line 11)) (1.12.0)\n",
      "Collecting oauth2client\n",
      "  Downloading oauth2client-4.1.3-py2.py3-none-any.whl (98 kB)\n",
      "Requirement already satisfied: six>=1.6.1 in c:\\users\\laial\\anaconda3\\lib\\site-packages (from oauth2client) (1.12.0)\n",
      "Collecting pyasn1-modules>=0.0.5\n",
      "  Using cached pyasn1_modules-0.2.8-py2.py3-none-any.whl (155 kB)\n",
      "Collecting pyasn1>=0.1.7\n",
      "  Using cached pyasn1-0.4.8-py2.py3-none-any.whl (77 kB)\n",
      "Collecting rsa>=3.1.4\n",
      "  Using cached rsa-4.0-py2.py3-none-any.whl (38 kB)\n",
      "Collecting httplib2>=0.9.1\n",
      "  Using cached httplib2-0.17.0-py3-none-any.whl (95 kB)\n",
      "Installing collected packages: pyasn1, pyasn1-modules, rsa, httplib2, oauth2client\n",
      "Successfully installed httplib2-0.17.0 oauth2client-4.1.3 pyasn1-0.4.8 pyasn1-modules-0.2.8 rsa-4.0\n"
     ]
    }
   ],
   "source": [
    "\"\"\"\n",
    "1) Gain authorization with Google API for sheet\n",
    "2) Import Sheet(s) as Pandas Dataframe(s)\n",
    "3) Convert Sheet(s) to CSVs in proper format (note on Monday)\n",
    "\"\"\"\n",
    "!pip install -r requirements.txt\n",
    "#!pip install gspread\n",
    "!pip install oauth2client"
   ]
  },
  {
   "cell_type": "code",
   "execution_count": 28,
   "metadata": {},
   "outputs": [],
   "source": [
    "import gspread\n",
    "from oauth2client.service_account import ServiceAccountCredentials\n",
    "import pandas as pd"
   ]
  },
  {
   "cell_type": "code",
   "execution_count": 29,
   "metadata": {},
   "outputs": [],
   "source": [
    "scope = ['https://spreadsheets.google.com/feeds',\n",
    "         'https://www.googleapis.com/auth/drive']\n",
    "json_file = 'eep153-project2-269718.json'\n",
    "spreadsheet = \"16eMvk2KBVOd30v7wTqp1ZGoFno9f9FmfxRBE_jcrLcI\"\n",
    "credentials = ServiceAccountCredentials.from_json_keyfile_name(json_file, scope)\n",
    "gc = gspread.authorize(credentials)\n",
    "sh = gc.open_by_key(spreadsheet)"
   ]
  },
  {
   "cell_type": "code",
   "execution_count": 30,
   "metadata": {},
   "outputs": [
    {
     "data": {
      "text/plain": [
       "[<Worksheet 'Calories' id:0>,\n",
       " <Worksheet 'Food Data' id:1188532609>,\n",
       " <Worksheet 'Nutrition' id:1079378864>]"
      ]
     },
     "execution_count": 30,
     "metadata": {},
     "output_type": "execute_result"
    }
   ],
   "source": [
    "sh.worksheets()"
   ]
  },
  {
   "cell_type": "code",
   "execution_count": 31,
   "metadata": {},
   "outputs": [],
   "source": [
    "wks_calories = sh.worksheet(\"Calories\")\n",
    "wks_food_data = sh.worksheet(\"Food Data\")\n",
    "wks_nutrition = sh.worksheet(\"Nutrition\")"
   ]
  },
  {
   "cell_type": "code",
   "execution_count": 33,
   "metadata": {},
   "outputs": [
    {
     "data": {
      "text/html": [
       "<div>\n",
       "<style scoped>\n",
       "    .dataframe tbody tr th:only-of-type {\n",
       "        vertical-align: middle;\n",
       "    }\n",
       "\n",
       "    .dataframe tbody tr th {\n",
       "        vertical-align: top;\n",
       "    }\n",
       "\n",
       "    .dataframe thead th {\n",
       "        text-align: right;\n",
       "    }\n",
       "</style>\n",
       "<table border=\"1\" class=\"dataframe\">\n",
       "  <thead>\n",
       "    <tr style=\"text-align: right;\">\n",
       "      <th></th>\n",
       "      <th>0</th>\n",
       "      <th>1</th>\n",
       "      <th>2</th>\n",
       "      <th>3</th>\n",
       "      <th>4</th>\n",
       "      <th>5</th>\n",
       "      <th>6</th>\n",
       "      <th>7</th>\n",
       "      <th>8</th>\n",
       "    </tr>\n",
       "  </thead>\n",
       "  <tbody>\n",
       "    <tr>\n",
       "      <td>0</td>\n",
       "      <td></td>\n",
       "      <td>Male</td>\n",
       "      <td></td>\n",
       "      <td></td>\n",
       "      <td>Female</td>\n",
       "      <td></td>\n",
       "      <td></td>\n",
       "      <td></td>\n",
       "      <td>Source: Appendix 2</td>\n",
       "    </tr>\n",
       "    <tr>\n",
       "      <td>1</td>\n",
       "      <td>AGE</td>\n",
       "      <td>Sedentary</td>\n",
       "      <td>Moderately\\nactive</td>\n",
       "      <td>Active</td>\n",
       "      <td>Sedentary</td>\n",
       "      <td>Moderately\\nactive</td>\n",
       "      <td>Active</td>\n",
       "      <td></td>\n",
       "      <td></td>\n",
       "    </tr>\n",
       "    <tr>\n",
       "      <td>2</td>\n",
       "      <td>2</td>\n",
       "      <td>1000</td>\n",
       "      <td>1000</td>\n",
       "      <td>1000</td>\n",
       "      <td>1000</td>\n",
       "      <td>1 000</td>\n",
       "      <td>1000</td>\n",
       "      <td></td>\n",
       "      <td></td>\n",
       "    </tr>\n",
       "    <tr>\n",
       "      <td>3</td>\n",
       "      <td>3</td>\n",
       "      <td>1000</td>\n",
       "      <td>1400</td>\n",
       "      <td>1400</td>\n",
       "      <td>1000</td>\n",
       "      <td>1200</td>\n",
       "      <td>1400</td>\n",
       "      <td></td>\n",
       "      <td></td>\n",
       "    </tr>\n",
       "    <tr>\n",
       "      <td>4</td>\n",
       "      <td>4</td>\n",
       "      <td>1200</td>\n",
       "      <td>1400</td>\n",
       "      <td>1600</td>\n",
       "      <td>1200</td>\n",
       "      <td>1400</td>\n",
       "      <td>1400</td>\n",
       "      <td></td>\n",
       "      <td></td>\n",
       "    </tr>\n",
       "  </tbody>\n",
       "</table>\n",
       "</div>"
      ],
      "text/plain": [
       "     0          1                   2       3          4                   5  \\\n",
       "0            Male                                 Female                       \n",
       "1  AGE  Sedentary  Moderately\\nactive  Active  Sedentary  Moderately\\nactive   \n",
       "2    2       1000                1000    1000       1000               1 000   \n",
       "3    3       1000                1400    1400       1000                1200   \n",
       "4    4       1200                1400    1600       1200                1400   \n",
       "\n",
       "        6 7                   8  \n",
       "0            Source: Appendix 2  \n",
       "1  Active                        \n",
       "2    1000                        \n",
       "3    1400                        \n",
       "4    1400                        "
      ]
     },
     "execution_count": 33,
     "metadata": {},
     "output_type": "execute_result"
    }
   ],
   "source": [
    "data = wks_calories.get_all_values()\n",
    "#headers = data.pop(0)\n",
    "#data_df = pd.DataFrame(data,columns=headers)\n",
    "data_df = pd.DataFrame(data)\n",
    "data_df.head()"
   ]
  },
  {
   "cell_type": "code",
   "execution_count": null,
   "metadata": {},
   "outputs": [],
   "source": []
  }
 ],
 "metadata": {
  "kernelspec": {
   "display_name": "Python 3",
   "language": "python",
   "name": "python3"
  },
  "language_info": {
   "codemirror_mode": {
    "name": "ipython",
    "version": 3
   },
   "file_extension": ".py",
   "mimetype": "text/x-python",
   "name": "python",
   "nbconvert_exporter": "python",
   "pygments_lexer": "ipython3",
   "version": "3.7.4"
  }
 },
 "nbformat": 4,
 "nbformat_minor": 2
}
